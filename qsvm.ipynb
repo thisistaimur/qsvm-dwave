{
 "cells": [
  {
   "cell_type": "markdown",
   "id": "5b452cd6-d47a-4e3f-9399-e7ec85452e48",
   "metadata": {},
   "source": [
    "# QSVM on MNIST"
   ]
  },
  {
   "cell_type": "code",
   "execution_count": 1,
   "id": "a70c7bef-ef22-4247-b2f5-be2a0a8307e0",
   "metadata": {},
   "outputs": [],
   "source": [
    "# Standard scientific Python imports\n",
    "import matplotlib.pyplot as plt\n",
    "\n",
    "# Import datasets, classifiers and performance metrics\n",
    "from sklearn import datasets, metrics, svm\n",
    "from sklearn.model_selection import train_test_split\n",
    "\n",
    "from utils import * "
   ]
  },
  {
   "cell_type": "code",
   "execution_count": 2,
   "id": "967153d1-9bce-4d17-aeba-1b7ad959a62a",
   "metadata": {},
   "outputs": [
    {
     "data": {
      "image/png": "[encoded data removed]",
      "text/plain": [
       "<Figure size 1000x300 with 4 Axes>"
      ]
     },
     "metadata": {},
     "output_type": "display_data"
    }
   ],
   "source": [
    "%matplotlib inline\n",
    "digits = datasets.load_digits()\n",
    "\n",
    "fig, axes = plt.subplots(nrows=1, ncols=4, figsize=(10, 3))\n",
    "for ax, image, label in zip(axes, digits.images, digits.target):\n",
    "    ax.set_axis_off()\n",
    "    ax.imshow(image, cmap=plt.cm.gray_r, interpolation=\"nearest\")\n",
    "    ax.set_title(f\"Training: {label}\")\n",
    "\n",
    "plt.show()"
   ]
  },
  {
   "cell_type": "code",
   "execution_count": 3,
   "id": "6c3855c2-a2b7-494a-a0f1-c5d68467e515",
   "metadata": {},
   "outputs": [
    {
     "name": "stdout",
     "output_type": "stream",
     "text": [
      "1797\n"
     ]
    }
   ],
   "source": [
    "print(len(digits.images))"
   ]
  },
  {
   "cell_type": "code",
   "execution_count": 4,
   "id": "38d910c3-e90e-411c-b9f6-f246e9f824b5",
   "metadata": {},
   "outputs": [],
   "source": [
    "X = digits.data       # features\n",
    "y = digits.target     # labels"
   ]
  },
  {
   "cell_type": "code",
   "execution_count": 5,
   "id": "67b1f9e7-b650-466a-ba55-db0efafd299d",
   "metadata": {},
   "outputs": [
    {
     "name": "stdout",
     "output_type": "stream",
     "text": [
      "Shape of data for digits 0 and 1: (360, 64)\n",
      "Shape of target for digits 0 and 1: (360,)\n"
     ]
    }
   ],
   "source": [
    "# Filter the data to include only digits '0' and '1'\n",
    "zero_one_indices = (y == 0) | (y == 1)\n",
    "X = X[zero_one_indices]\n",
    "y = y[zero_one_indices]\n",
    "\n",
    "y = np.where(y == 0, -1, 1)\n",
    "\n",
    "print(\"Shape of data for digits 0 and 1:\", X.shape)\n",
    "print(\"Shape of target for digits 0 and 1:\", y.shape)"
   ]
  },
  {
   "cell_type": "code",
   "execution_count": 6,
   "id": "643aed41-9a15-454b-9134-c0ee6b213eae",
   "metadata": {},
   "outputs": [
    {
     "data": {
      "image/png": "[encoded data removed]",
      "text/plain": [
       "<Figure size 2000x400 with 10 Axes>"
      ]
     },
     "metadata": {},
     "output_type": "display_data"
    }
   ],
   "source": [
    "import matplotlib.pyplot as plt\n",
    "import numpy as np\n",
    "\n",
    "# Select a few random indices to display\n",
    "num_display = 10\n",
    "random_indices = np.random.choice(len(X), num_display, replace=False)\n",
    "\n",
    "# Display the images\n",
    "plt.figure(figsize=(num_display * 2, 4))\n",
    "for i, index in enumerate(random_indices):\n",
    "    plt.subplot(1, num_display, i + 1)\n",
    "    # Reshape the image to 8x8\n",
    "    image = X[index].reshape(8, 8)\n",
    "    plt.imshow(image, cmap='binary', interpolation='nearest')\n",
    "    plt.title(f\"Digit: {y[index]}\")\n",
    "    plt.axis('off')\n",
    "\n",
    "plt.tight_layout()\n",
    "plt.show()"
   ]
  },
  {
   "cell_type": "code",
   "execution_count": 7,
   "id": "bf0da814-5516-483a-91af-76dff5eabadc",
   "metadata": {},
   "outputs": [],
   "source": [
    "from sklearn.model_selection import train_test_split\n",
    "\n",
    "X_train, X_test, y_train, y_test = train_test_split(\n",
    "    X, y, test_size=0.1, random_state=42\n",
    ")"
   ]
  },
  {
   "cell_type": "code",
   "execution_count": 8,
   "id": "6d511a64-bd70-4438-b6fe-1ded8bd5f40a",
   "metadata": {},
   "outputs": [],
   "source": [
    "import os\n",
    "\n",
    "def write_samples(X, Y, path): \n",
    "    import os\n",
    "    os.makedirs(os.path.dirname(path), exist_ok=True)\n",
    "\n",
    "    with open(path, \"w\") as f: \n",
    "        f.write(\"id label data\\n\") \n",
    "        for i in range(X.shape[0]):\n",
    "            features = \" \".join(str(val) for val in X[i])   # no brackets, no commas\n",
    "            f.write(f\"{i} {Y[i]} {features}\\n\")"
   ]
  },
  {
   "cell_type": "code",
   "execution_count": 9,
   "id": "fb854a60-3cd7-4e83-8832-85ae72f6090e",
   "metadata": {},
   "outputs": [
    {
     "name": "stdout",
     "output_type": "stream",
     "text": [
      "Each training set includes 162 samples\n",
      "Each validation set includes 162 samples\n"
     ]
    }
   ],
   "source": [
    "from sklearn import preprocessing\n",
    "\n",
    "# 10-fold Monte Carlo (or split-and-shuffle) cross-validation\n",
    "fold=10\n",
    "\n",
    "id_dataset = \"mnist\"\n",
    "for i in range(0,fold):\n",
    "    X_train_cal, X_val_cal, Y_train_cal, Y_val_cal = train_test_split(X_train,y_train, test_size=0.5, random_state=i, stratify=y_train)\n",
    "    \n",
    "    # Pre-processing \n",
    "    X_train_cal = preprocessing.scale(X_train_cal)\n",
    "    X_val_cal = preprocessing.scale(X_val_cal)\n",
    "        \n",
    "    # Write the data\n",
    "    write_samples(X_train_cal, Y_train_cal,'input_datasets/calibration3/'+id_dataset+'/'+id_dataset+'calibtrain'+str(i))\n",
    "    write_samples(X_val_cal, Y_val_cal,'input_datasets/calibration3/'+id_dataset+'/'+id_dataset+'calibval'+str(i))\n",
    "    \n",
    "print('Each training set includes '+str(X_train_cal.shape[0])+ ' samples')\n",
    "print('Each validation set includes '+str(X_val_cal.shape[0])+ ' samples')"
   ]
  },
  {
   "cell_type": "markdown",
   "id": "bcf5f8f9-4c6c-4162-abdb-7aaae8fea353",
   "metadata": {},
   "source": [
    "## Calibration"
   ]
  },
  {
   "cell_type": "code",
   "execution_count": null,
   "id": "a4e76ddb-416c-4531-af1c-4278e5ea6618",
   "metadata": {},
   "outputs": [
    {
     "name": "stdout",
     "output_type": "stream",
     "text": [
      "[gen_svm_qubos] mnistcalibtrain0 unique labels: [-1.  1.]\n",
      "Creating the QUBO of size (486, 486)\n",
      "Extracting nodes and couplers\n",
      "Saving 486 nodes and 117855 couplers for outputs/calibration3/mnist/runmnistcalibtrain0_B=2_K=3_xi=1_gamma=1/\n",
      "running outputs/calibration3/mnist/runmnistcalibtrain0_B=2_K=3_xi=1_gamma=1/result_couplers=117855/ with 486 nodes and 117855 couplers\n"
     ]
    }
   ],
   "source": [
    "from quantum_SVM import *\n",
    "\n",
    "# Hyperparameters \n",
    "B=[2]\n",
    "K=[3]\n",
    "xi=[1]\n",
    "gamma=[1]\n",
    "n_experiments=len(B)*len(K)*len(xi)*len(gamma)\n",
    "\n",
    "hyperparameters=np.zeros([n_experiments,4], dtype=float)\n",
    "\n",
    "path_data_key='input_datasets/calibration3/'+id_dataset+'/'\n",
    "data_key = id_dataset+'calibtrain'\n",
    "path_out='outputs/calibration3/'+id_dataset+'/'\n",
    "\n",
    "trainacc=np.zeros([fold], dtype=float)\n",
    "trainauroc=np.zeros([fold], dtype=float)\n",
    "trainauprc=np.zeros([fold], dtype=float)\n",
    "    \n",
    "testacc=np.zeros([fold], dtype=float)\n",
    "testauroc=np.zeros([fold], dtype=float)\n",
    "testauprc=np.zeros([fold], dtype=float)\n",
    "\n",
    "trainacc_all=np.zeros([n_experiments], dtype=float)\n",
    "trainauroc_all=np.zeros([n_experiments], dtype=float)\n",
    "trainauprc_all=np.zeros([n_experiments], dtype=float)\n",
    "    \n",
    "testacc_all=np.zeros([n_experiments], dtype=float)\n",
    "testauroc_all=np.zeros([n_experiments], dtype=float)\n",
    "testauprc_all=np.zeros([n_experiments], dtype=float)\n",
    "\n",
    "\n",
    "f = open(path_out+'calibration_results.txt',\"w\") \n",
    "f.write(\"B\\t K\\t xi\\t   gamma\\t trainacc\\t trainauroc\\t trainauprc\\t testacc\\t testauroc\\t testauprc\\n\") \n",
    "  \n",
    "count=0 \n",
    "for x in range(0,len(B)):\n",
    "    for y in range(0,len(K)):\n",
    "        for z in range(0,len(xi)):\n",
    "            for i in range(0,len(gamma)):\n",
    "                for j in range(0,fold):\n",
    "                    path=gen_svm_qubos(B[x],K[y],xi[z],gamma[i],path_data_key,data_key+str(j),path_out)\n",
    "                    pathsub=dwave_run(path_data_key,path)\n",
    "                    [trainacc[j],trainauroc[j],trainauprc[j],testacc[j],testauroc[j],testauprc[j]]=eval_run_rocpr_curves(path_data_key,pathsub,'noplotsave')\n",
    "                    \n",
    "                hyperparameters[count,0]=B[x]\n",
    "                hyperparameters[count,1]=K[y]\n",
    "                hyperparameters[count,2]=xi[z]\n",
    "                hyperparameters[count,3]=gamma[i]\n",
    "            \n",
    "                trainacc_all[count]=np.average(trainacc)\n",
    "                trainauroc_all[count]=np.average(trainauroc)\n",
    "                trainauprc_all[count]=np.average(trainauprc)\n",
    "    \n",
    "                testacc_all[count]=np.average(testacc)\n",
    "                testauroc_all[count]=np.average(testauroc)\n",
    "                testauprc_all[count]=np.average(testauprc)\n",
    "                \n",
    "                np.save(path_out+'hyperparameters', hyperparameters)\n",
    "                np.save(path_out+'trainacc_all', trainacc_all)\n",
    "                np.save(path_out+'trainauroc_all', trainauroc_all)\n",
    "                np.save(path_out+'trainauprc_all', trainauprc_all)\n",
    "                np.save(path_out+'testacc_all', testacc_all)\n",
    "                np.save(path_out+'testauroc_all', testauroc_all)\n",
    "                np.save(path_out+'testauprc_all', testauprc_all)\n",
    "                \n",
    "                f.write(f'{B[x]}\\t {K[y]}\\t {xi[z]}\\t {gamma[i]:8.3f}\\t {np.average(trainacc):8.4f}\\t {np.average(trainauroc):8.4f}\\t {np.average(trainauprc):8.4f}\\t {np.average(testacc):8.4f}\\t {np.average(testauroc):8.4f}\\t {np.average(testauprc):8.4f}')\n",
    "                f.write(\"\\n\") \n",
    "                count=count+1\n",
    "                \n",
    "f.close() "
   ]
  },
  {
   "cell_type": "code",
   "execution_count": 49,
   "id": "b294cc94-c300-461b-bdb9-8a6acb061102",
   "metadata": {},
   "outputs": [],
   "source": [
    "import importlib, utils, quantum_SVM\n",
    "importlib.reload(utils)\n",
    "importlib.reload(quantum_SVM)\n",
    "from quantum_SVM import *"
   ]
  },
  {
   "cell_type": "markdown",
   "id": "a3f2f22c-10c2-4805-997e-77b2b827fe00",
   "metadata": {},
   "source": [
    "### Training"
   ]
  },
  {
   "cell_type": "code",
   "execution_count": 19,
   "id": "50756cd8-9dd9-49ad-b28d-57abebf4cf8a",
   "metadata": {},
   "outputs": [
    {
     "name": "stdout",
     "output_type": "stream",
     "text": [
      "8\n",
      "Each training set has 40 samples\n",
      "\n"
     ]
    }
   ],
   "source": [
    "from quantum_SVM import *\n",
    "import numpy as np\n",
    "from utils import *\n",
    "from sklearn.model_selection import KFold\n",
    "from sklearn import preprocessing\n",
    "\n",
    "# Write the data\n",
    "experiments=1\n",
    "slice=40 # Number of samples to use for the training\n",
    "fold=int(len(X_train)/40)\n",
    "\n",
    "print(fold)\n",
    "\n",
    "for i in range(0,experiments):    \n",
    "    cv = KFold(n_splits=fold, random_state=i, shuffle=True)\n",
    "    count=0\n",
    "    for test_index, train_index in cv.split(X_train):\n",
    "        #print(\"Train Index: \", len(train_index), \"\\n\")\n",
    "        \n",
    "        X_train_slice, y_train_slice = X_train[train_index], y_train[train_index]\n",
    "        X_train_slice = preprocessing.scale(X_train_slice)\n",
    "        \n",
    "        X_test_slice, y_test_slice = X_train[test_index], y_train[test_index]\n",
    "        X_test_slice = preprocessing.scale(X_test_slice)\n",
    "        \n",
    "        write_samples(X_train_slice, y_train_slice,f'input_datasets/train/'+id_dataset+'/'+id_dataset+'calibtrain'+str(i)+'_'+str(count))\n",
    "        write_samples(X_test_slice, y_test_slice,f'input_datasets/train/'+id_dataset+'/'+id_dataset+'calibval'+str(i)+'_'+str(count))\n",
    "        \n",
    "        count=count+1\n",
    "\n",
    "print(\"Each training set has\", len(train_index), \"samples\\n\")"
   ]
  },
  {
   "cell_type": "code",
   "execution_count": 20,
   "id": "94ed6344-20df-44e8-8d6b-81ef7f53ba80",
   "metadata": {
    "scrolled": true
   },
   "outputs": [
    {
     "name": "stderr",
     "output_type": "stream",
     "text": [
      "/tmp/ipykernel_260/3094108616.py:8: DeprecationWarning: Conversion of an array with ndim > 0 to a scalar is deprecated, and will error in future. Ensure you extract a single element from your array before performing this operation. (Deprecated NumPy 1.25.)\n",
      "  B=int(hyperparameters[int(idx_max[0]),0])\n",
      "/tmp/ipykernel_260/3094108616.py:9: DeprecationWarning: Conversion of an array with ndim > 0 to a scalar is deprecated, and will error in future. Ensure you extract a single element from your array before performing this operation. (Deprecated NumPy 1.25.)\n",
      "  K=int(hyperparameters[int(idx_max[0]),1])\n",
      "/tmp/ipykernel_260/3094108616.py:10: DeprecationWarning: Conversion of an array with ndim > 0 to a scalar is deprecated, and will error in future. Ensure you extract a single element from your array before performing this operation. (Deprecated NumPy 1.25.)\n",
      "  xi=int(hyperparameters[int(idx_max[0]),2])\n",
      "/tmp/ipykernel_260/3094108616.py:11: DeprecationWarning: Conversion of an array with ndim > 0 to a scalar is deprecated, and will error in future. Ensure you extract a single element from your array before performing this operation. (Deprecated NumPy 1.25.)\n",
      "  gamma=hyperparameters[int(idx_max[0]),3]\n"
     ]
    },
    {
     "name": "stdout",
     "output_type": "stream",
     "text": [
      "The best hyperparameters are:\n",
      "B = 2 K = 2 xi = 0 gamma = 0.5\n",
      "[gen_svm_qubos] mnistcalibtrain0_0 unique labels: [1.]\n",
      "Creating the QUBO of size (82, 82)\n",
      "Extracting nodes and couplers\n",
      "Saving 82 nodes and 707 couplers for outputs/train/mnist/runmnistcalibtrain0_0_B=2_K=2_xi=0_gamma=0.5/\n",
      "running outputs/train/mnist/runmnistcalibtrain0_0_B=2_K=2_xi=0_gamma=0.5/result_couplers=707/ with 82 nodes and 707 couplers\n",
      "[gen_svm_qubos] mnistcalibtrain0_1 unique labels: [1.]\n",
      "Creating the QUBO of size (82, 82)\n",
      "Extracting nodes and couplers\n",
      "Saving 82 nodes and 515 couplers for outputs/train/mnist/runmnistcalibtrain0_1_B=2_K=2_xi=0_gamma=0.5/\n",
      "running outputs/train/mnist/runmnistcalibtrain0_1_B=2_K=2_xi=0_gamma=0.5/result_couplers=515/ with 82 nodes and 515 couplers\n",
      "[gen_svm_qubos] mnistcalibtrain0_2 unique labels: [1.]\n",
      "Creating the QUBO of size (82, 82)\n",
      "Extracting nodes and couplers\n",
      "Saving 82 nodes and 500 couplers for outputs/train/mnist/runmnistcalibtrain0_2_B=2_K=2_xi=0_gamma=0.5/\n",
      "running outputs/train/mnist/runmnistcalibtrain0_2_B=2_K=2_xi=0_gamma=0.5/result_couplers=500/ with 82 nodes and 500 couplers\n",
      "[gen_svm_qubos] mnistcalibtrain0_3 unique labels: [1.]\n",
      "Creating the QUBO of size (82, 82)\n",
      "Extracting nodes and couplers\n",
      "Saving 82 nodes and 441 couplers for outputs/train/mnist/runmnistcalibtrain0_3_B=2_K=2_xi=0_gamma=0.5/\n",
      "running outputs/train/mnist/runmnistcalibtrain0_3_B=2_K=2_xi=0_gamma=0.5/result_couplers=441/ with 82 nodes and 441 couplers\n",
      "[gen_svm_qubos] mnistcalibtrain0_4 unique labels: [1.]\n",
      "Creating the QUBO of size (80, 80)\n",
      "Extracting nodes and couplers\n",
      "Saving 80 nodes and 397 couplers for outputs/train/mnist/runmnistcalibtrain0_4_B=2_K=2_xi=0_gamma=0.5/\n",
      "running outputs/train/mnist/runmnistcalibtrain0_4_B=2_K=2_xi=0_gamma=0.5/result_couplers=397/ with 80 nodes and 397 couplers\n",
      "[gen_svm_qubos] mnistcalibtrain0_5 unique labels: [1.]\n",
      "Creating the QUBO of size (80, 80)\n",
      "Extracting nodes and couplers\n",
      "Saving 80 nodes and 454 couplers for outputs/train/mnist/runmnistcalibtrain0_5_B=2_K=2_xi=0_gamma=0.5/\n",
      "running outputs/train/mnist/runmnistcalibtrain0_5_B=2_K=2_xi=0_gamma=0.5/result_couplers=454/ with 80 nodes and 454 couplers\n",
      "[gen_svm_qubos] mnistcalibtrain0_6 unique labels: [1.]\n",
      "Creating the QUBO of size (80, 80)\n",
      "Extracting nodes and couplers\n",
      "Saving 80 nodes and 396 couplers for outputs/train/mnist/runmnistcalibtrain0_6_B=2_K=2_xi=0_gamma=0.5/\n",
      "running outputs/train/mnist/runmnistcalibtrain0_6_B=2_K=2_xi=0_gamma=0.5/result_couplers=396/ with 80 nodes and 396 couplers\n",
      "[gen_svm_qubos] mnistcalibtrain0_7 unique labels: [1.]\n",
      "Creating the QUBO of size (80, 80)\n",
      "Extracting nodes and couplers\n",
      "Saving 80 nodes and 383 couplers for outputs/train/mnist/runmnistcalibtrain0_7_B=2_K=2_xi=0_gamma=0.5/\n",
      "running outputs/train/mnist/runmnistcalibtrain0_7_B=2_K=2_xi=0_gamma=0.5/result_couplers=383/ with 80 nodes and 383 couplers\n"
     ]
    }
   ],
   "source": [
    "# Get the calibration results\n",
    "path_out='outputs/calibration/'+id_dataset+'/'\n",
    "hyperparameters=np.load(path_out+'hyperparameters.npy')\n",
    "testauprc_all=np.load(path_out+'testauprc_all.npy')\n",
    "\n",
    "# Select the best hyperparameter set for the max value of testauprc\n",
    "idx_max = np.where(testauprc_all == np.amax(testauprc_all))\n",
    "B=int(hyperparameters[int(idx_max[0]),0])\n",
    "K=int(hyperparameters[int(idx_max[0]),1])\n",
    "xi=int(hyperparameters[int(idx_max[0]),2])\n",
    "gamma=hyperparameters[int(idx_max[0]),3]\n",
    "print('The best hyperparameters are:\\n'+'B = '+str(B)+' K = '+str(K)+' xi = '+str(xi)+' gamma = '+str(gamma))\n",
    "\n",
    "path_data_key='input_datasets/train/'+id_dataset+'/'\n",
    "data_key = id_dataset+'calibtrain'\n",
    "path_out='outputs/train/'+id_dataset+'/'\n",
    "\n",
    "trained_SVMs=[]\n",
    "\n",
    "for j in range(0,experiments):\n",
    "    for i in range(0,fold):\n",
    "        path=gen_svm_qubos(B,K,xi,gamma,path_data_key,data_key+str(j)+'_'+str(i),path_out)\n",
    "        trained_SVMs.append(dwave_run(path_data_key,path))\n",
    "        np.save(path_out+'trained_SVMs',trained_SVMs)   "
   ]
  },
  {
   "cell_type": "code",
   "execution_count": 2,
   "id": "38162afa-f0cd-45bb-90f3-13f7f4e214e2",
   "metadata": {},
   "outputs": [
    {
     "name": "stdout",
     "output_type": "stream",
     "text": [
      "idx   \tsum_antn\ttrainacc\ttrainauroc\ttrainauprc\ttestacc  \ttestauroc\ttestauprc\n",
      "0\t 41.0000\t  1.0000\t     nan\t     nan\t  0.1413\t     nan\t     nan\n",
      "0\t 41.0000\t  1.0000\t     nan\t     nan\t  0.1413\t     nan\t     nan\n",
      "1\t 40.0000\t  1.0000\t     nan\t     nan\t  0.1731\t     nan\t     nan\n",
      "1\t 40.0000\t  1.0000\t     nan\t     nan\t  0.1731\t     nan\t     nan\n",
      "2\t 40.0000\t  1.0000\t     nan\t     nan\t  0.1484\t     nan\t     nan\n",
      "2\t 40.0000\t  1.0000\t     nan\t     nan\t  0.1484\t     nan\t     nan\n",
      "3\t 40.0000\t  1.0000\t     nan\t     nan\t  0.1307\t     nan\t     nan\n",
      "3\t 40.0000\t  1.0000\t     nan\t     nan\t  0.1307\t     nan\t     nan\n",
      "4\t 40.0000\t  0.9756\t     nan\t     nan\t  0.1413\t     nan\t     nan\n",
      "4\t 40.0000\t  0.9756\t     nan\t     nan\t  0.1413\t     nan\t     nan\n",
      "5\t 40.0000\t  0.9756\t     nan\t     nan\t  0.1413\t     nan\t     nan\n",
      "5\t 40.0000\t  0.9756\t     nan\t     nan\t  0.1413\t     nan\t     nan\n",
      "6\t 40.0000\t  0.9756\t     nan\t     nan\t  0.1413\t     nan\t     nan\n",
      "6\t 40.0000\t  0.9756\t     nan\t     nan\t  0.1413\t     nan\t     nan\n",
      "7\t 42.0000\t  1.0000\t     nan\t     nan\t  0.0495\t     nan\t     nan\n",
      "7\t 42.0000\t  1.0000\t     nan\t     nan\t  0.0495\t     nan\t     nan\n",
      "8\t 42.0000\t  1.0000\t     nan\t     nan\t  0.0495\t     nan\t     nan\n",
      "8\t 42.0000\t  1.0000\t     nan\t     nan\t  0.0495\t     nan\t     nan\n",
      "9\t 42.0000\t  1.0000\t     nan\t     nan\t  0.0495\t     nan\t     nan\n",
      "9\t 42.0000\t  1.0000\t     nan\t     nan\t  0.0495\t     nan\t     nan\n",
      "10\t 42.0000\t  1.0000\t     nan\t     nan\t  0.0495\t     nan\t     nan\n",
      "10\t 42.0000\t  1.0000\t     nan\t     nan\t  0.0495\t     nan\t     nan\n",
      "11\t 42.0000\t  1.0000\t     nan\t     nan\t  0.0495\t     nan\t     nan\n",
      "11\t 42.0000\t  1.0000\t     nan\t     nan\t  0.0495\t     nan\t     nan\n",
      "12\t 42.0000\t  1.0000\t     nan\t     nan\t  0.0495\t     nan\t     nan\n",
      "12\t 42.0000\t  1.0000\t     nan\t     nan\t  0.0495\t     nan\t     nan\n",
      "13\t 42.0000\t  1.0000\t     nan\t     nan\t  0.0495\t     nan\t     nan\n",
      "13\t 42.0000\t  1.0000\t     nan\t     nan\t  0.0495\t     nan\t     nan\n",
      "14\t 42.0000\t  1.0000\t     nan\t     nan\t  0.0495\t     nan\t     nan\n",
      "14\t 42.0000\t  1.0000\t     nan\t     nan\t  0.0495\t     nan\t     nan\n",
      "15\t 39.0000\t  1.0000\t     nan\t     nan\t  0.1555\t     nan\t     nan\n",
      "15\t 39.0000\t  1.0000\t     nan\t     nan\t  0.1555\t     nan\t     nan\n",
      "16\t 41.0000\t  0.9756\t     nan\t     nan\t  0.0424\t     nan\t     nan\n",
      "16\t 41.0000\t  0.9756\t     nan\t     nan\t  0.0424\t     nan\t     nan\n",
      "17\t 39.0000\t  1.0000\t     nan\t     nan\t  0.1343\t     nan\t     nan\n",
      "17\t 39.0000\t  1.0000\t     nan\t     nan\t  0.1343\t     nan\t     nan\n",
      "18\t 41.0000\t  0.9756\t     nan\t     nan\t  0.0495\t     nan\t     nan\n",
      "18\t 41.0000\t  0.9756\t     nan\t     nan\t  0.0495\t     nan\t     nan\n",
      "19\t 39.0000\t  0.9756\t     nan\t     nan\t  0.1272\t     nan\t     nan\n",
      "19\t 39.0000\t  0.9756\t     nan\t     nan\t  0.1272\t     nan\t     nan\n"
     ]
    },
    {
     "name": "stderr",
     "output_type": "stream",
     "text": [
      "/p/software/jsccloud/stages/2025/software/scikit-learn/1.5.2-gcccoreflexiblas-13.3.0-3.4.4/lib/python3.12/site-packages/sklearn/metrics/_ranking.py:1174: UndefinedMetricWarning: No negative samples in y_true, false positive value should be meaningless\n",
      "  warnings.warn(\n"
     ]
    },
    {
     "ename": "ValueError",
     "evalue": "Only one class present in y_true. ROC AUC score is not defined in that case.",
     "output_type": "error",
     "traceback": [
      "\u001b[0;31m---------------------------------------------------------------------------\u001b[0m",
      "\u001b[0;31mValueError\u001b[0m                                Traceback (most recent call last)",
      "Cell \u001b[0;32mIn[2], line 16\u001b[0m\n\u001b[1;32m     12\u001b[0m \u001b[38;5;66;03m# run folder (where alphas are stored)\u001b[39;00m\n\u001b[1;32m     13\u001b[0m path_in \u001b[38;5;241m=\u001b[39m \u001b[38;5;124m'\u001b[39m\u001b[38;5;124moutputs/train/mnist/runmnistcalibtrain0_0_B=2_K=2_xi=0_gamma=0.5/result_couplers=707\u001b[39m\u001b[38;5;124m'\u001b[39m\n\u001b[1;32m     15\u001b[0m trainacc[j], trainauroc[j], trainauprc[j], \\\n\u001b[0;32m---> 16\u001b[0m testacc[j], testauroc[j], testauprc[j] \u001b[38;5;241m=\u001b[39m \u001b[43meval_run_rocpr_curves\u001b[49m\u001b[43m(\u001b[49m\n\u001b[1;32m     17\u001b[0m \u001b[43m    \u001b[49m\u001b[43mpath_data_key\u001b[49m\u001b[43m,\u001b[49m\n\u001b[1;32m     18\u001b[0m \u001b[43m    \u001b[49m\u001b[43mpath_in\u001b[49m\u001b[43m,\u001b[49m\n\u001b[1;32m     19\u001b[0m \u001b[43m    \u001b[49m\u001b[38;5;124;43m'\u001b[39;49m\u001b[38;5;124;43msaveplot\u001b[39;49m\u001b[38;5;124;43m'\u001b[39;49m\n\u001b[1;32m     20\u001b[0m \u001b[43m)\u001b[49m\n",
      "File \u001b[0;32m~/qsvm-dwave/quantum_SVM.py:268\u001b[0m, in \u001b[0;36meval_run_rocpr_curves\u001b[0;34m(path_data_key, path_in, plotoption)\u001b[0m\n\u001b[1;32m    266\u001b[0m plt\u001b[38;5;241m.\u001b[39msubplots_adjust(top\u001b[38;5;241m=\u001b[39m\u001b[38;5;241m.95\u001b[39m, right\u001b[38;5;241m=\u001b[39m\u001b[38;5;241m.95\u001b[39m, bottom\u001b[38;5;241m=\u001b[39m\u001b[38;5;241m.15\u001b[39m, wspace\u001b[38;5;241m=\u001b[39m\u001b[38;5;241m.3\u001b[39m)\n\u001b[1;32m    267\u001b[0m fpr, tpr, thresholds \u001b[38;5;241m=\u001b[39m roc_curve(labeltest, scoretest)\n\u001b[0;32m--> 268\u001b[0m auroc \u001b[38;5;241m=\u001b[39m \u001b[43mroc_auc_score\u001b[49m\u001b[43m(\u001b[49m\u001b[43mlabeltest\u001b[49m\u001b[43m,\u001b[49m\u001b[43m \u001b[49m\u001b[43mscoretest\u001b[49m\u001b[43m)\u001b[49m\n\u001b[1;32m    269\u001b[0m plt\u001b[38;5;241m.\u001b[39mplot(fpr, tpr, label\u001b[38;5;241m=\u001b[39m\u001b[38;5;124m'\u001b[39m\u001b[38;5;124mAUROC=\u001b[39m\u001b[38;5;132;01m%0.3f\u001b[39;00m\u001b[38;5;124m'\u001b[39m \u001b[38;5;241m%\u001b[39m auroc, color\u001b[38;5;241m=\u001b[39m\u001b[38;5;124m'\u001b[39m\u001b[38;5;124mg\u001b[39m\u001b[38;5;124m'\u001b[39m)\n\u001b[1;32m    270\u001b[0m plt\u001b[38;5;241m.\u001b[39mfill_between(fpr, tpr, alpha\u001b[38;5;241m=\u001b[39m\u001b[38;5;241m0.2\u001b[39m, color\u001b[38;5;241m=\u001b[39m\u001b[38;5;124m'\u001b[39m\u001b[38;5;124mg\u001b[39m\u001b[38;5;124m'\u001b[39m, step\u001b[38;5;241m=\u001b[39m\u001b[38;5;124m'\u001b[39m\u001b[38;5;124mpost\u001b[39m\u001b[38;5;124m'\u001b[39m)\n",
      "File \u001b[0;32m/p/software/jsccloud/stages/2025/software/scikit-learn/1.5.2-gcccoreflexiblas-13.3.0-3.4.4/lib/python3.12/site-packages/sklearn/utils/_param_validation.py:213\u001b[0m, in \u001b[0;36mvalidate_params.<locals>.decorator.<locals>.wrapper\u001b[0;34m(*args, **kwargs)\u001b[0m\n\u001b[1;32m    207\u001b[0m \u001b[38;5;28;01mtry\u001b[39;00m:\n\u001b[1;32m    208\u001b[0m     \u001b[38;5;28;01mwith\u001b[39;00m config_context(\n\u001b[1;32m    209\u001b[0m         skip_parameter_validation\u001b[38;5;241m=\u001b[39m(\n\u001b[1;32m    210\u001b[0m             prefer_skip_nested_validation \u001b[38;5;129;01mor\u001b[39;00m global_skip_validation\n\u001b[1;32m    211\u001b[0m         )\n\u001b[1;32m    212\u001b[0m     ):\n\u001b[0;32m--> 213\u001b[0m         \u001b[38;5;28;01mreturn\u001b[39;00m \u001b[43mfunc\u001b[49m\u001b[43m(\u001b[49m\u001b[38;5;241;43m*\u001b[39;49m\u001b[43margs\u001b[49m\u001b[43m,\u001b[49m\u001b[43m \u001b[49m\u001b[38;5;241;43m*\u001b[39;49m\u001b[38;5;241;43m*\u001b[39;49m\u001b[43mkwargs\u001b[49m\u001b[43m)\u001b[49m\n\u001b[1;32m    214\u001b[0m \u001b[38;5;28;01mexcept\u001b[39;00m InvalidParameterError \u001b[38;5;28;01mas\u001b[39;00m e:\n\u001b[1;32m    215\u001b[0m     \u001b[38;5;66;03m# When the function is just a wrapper around an estimator, we allow\u001b[39;00m\n\u001b[1;32m    216\u001b[0m     \u001b[38;5;66;03m# the function to delegate validation to the estimator, but we replace\u001b[39;00m\n\u001b[1;32m    217\u001b[0m     \u001b[38;5;66;03m# the name of the estimator by the name of the function in the error\u001b[39;00m\n\u001b[1;32m    218\u001b[0m     \u001b[38;5;66;03m# message to avoid confusion.\u001b[39;00m\n\u001b[1;32m    219\u001b[0m     msg \u001b[38;5;241m=\u001b[39m re\u001b[38;5;241m.\u001b[39msub(\n\u001b[1;32m    220\u001b[0m         \u001b[38;5;124mr\u001b[39m\u001b[38;5;124m\"\u001b[39m\u001b[38;5;124mparameter of \u001b[39m\u001b[38;5;124m\\\u001b[39m\u001b[38;5;124mw+ must be\u001b[39m\u001b[38;5;124m\"\u001b[39m,\n\u001b[1;32m    221\u001b[0m         \u001b[38;5;124mf\u001b[39m\u001b[38;5;124m\"\u001b[39m\u001b[38;5;124mparameter of \u001b[39m\u001b[38;5;132;01m{\u001b[39;00mfunc\u001b[38;5;241m.\u001b[39m\u001b[38;5;18m__qualname__\u001b[39m\u001b[38;5;132;01m}\u001b[39;00m\u001b[38;5;124m must be\u001b[39m\u001b[38;5;124m\"\u001b[39m,\n\u001b[1;32m    222\u001b[0m         \u001b[38;5;28mstr\u001b[39m(e),\n\u001b[1;32m    223\u001b[0m     )\n",
      "File \u001b[0;32m/p/software/jsccloud/stages/2025/software/scikit-learn/1.5.2-gcccoreflexiblas-13.3.0-3.4.4/lib/python3.12/site-packages/sklearn/metrics/_ranking.py:640\u001b[0m, in \u001b[0;36mroc_auc_score\u001b[0;34m(y_true, y_score, average, sample_weight, max_fpr, multi_class, labels)\u001b[0m\n\u001b[1;32m    638\u001b[0m     labels \u001b[38;5;241m=\u001b[39m np\u001b[38;5;241m.\u001b[39munique(y_true)\n\u001b[1;32m    639\u001b[0m     y_true \u001b[38;5;241m=\u001b[39m label_binarize(y_true, classes\u001b[38;5;241m=\u001b[39mlabels)[:, \u001b[38;5;241m0\u001b[39m]\n\u001b[0;32m--> 640\u001b[0m     \u001b[38;5;28;01mreturn\u001b[39;00m \u001b[43m_average_binary_score\u001b[49m\u001b[43m(\u001b[49m\n\u001b[1;32m    641\u001b[0m \u001b[43m        \u001b[49m\u001b[43mpartial\u001b[49m\u001b[43m(\u001b[49m\u001b[43m_binary_roc_auc_score\u001b[49m\u001b[43m,\u001b[49m\u001b[43m \u001b[49m\u001b[43mmax_fpr\u001b[49m\u001b[38;5;241;43m=\u001b[39;49m\u001b[43mmax_fpr\u001b[49m\u001b[43m)\u001b[49m\u001b[43m,\u001b[49m\n\u001b[1;32m    642\u001b[0m \u001b[43m        \u001b[49m\u001b[43my_true\u001b[49m\u001b[43m,\u001b[49m\n\u001b[1;32m    643\u001b[0m \u001b[43m        \u001b[49m\u001b[43my_score\u001b[49m\u001b[43m,\u001b[49m\n\u001b[1;32m    644\u001b[0m \u001b[43m        \u001b[49m\u001b[43maverage\u001b[49m\u001b[43m,\u001b[49m\n\u001b[1;32m    645\u001b[0m \u001b[43m        \u001b[49m\u001b[43msample_weight\u001b[49m\u001b[38;5;241;43m=\u001b[39;49m\u001b[43msample_weight\u001b[49m\u001b[43m,\u001b[49m\n\u001b[1;32m    646\u001b[0m \u001b[43m    \u001b[49m\u001b[43m)\u001b[49m\n\u001b[1;32m    647\u001b[0m \u001b[38;5;28;01melse\u001b[39;00m:  \u001b[38;5;66;03m# multilabel-indicator\u001b[39;00m\n\u001b[1;32m    648\u001b[0m     \u001b[38;5;28;01mreturn\u001b[39;00m _average_binary_score(\n\u001b[1;32m    649\u001b[0m         partial(_binary_roc_auc_score, max_fpr\u001b[38;5;241m=\u001b[39mmax_fpr),\n\u001b[1;32m    650\u001b[0m         y_true,\n\u001b[0;32m   (...)\u001b[0m\n\u001b[1;32m    653\u001b[0m         sample_weight\u001b[38;5;241m=\u001b[39msample_weight,\n\u001b[1;32m    654\u001b[0m     )\n",
      "File \u001b[0;32m/p/software/jsccloud/stages/2025/software/scikit-learn/1.5.2-gcccoreflexiblas-13.3.0-3.4.4/lib/python3.12/site-packages/sklearn/metrics/_base.py:76\u001b[0m, in \u001b[0;36m_average_binary_score\u001b[0;34m(binary_metric, y_true, y_score, average, sample_weight)\u001b[0m\n\u001b[1;32m     73\u001b[0m     \u001b[38;5;28;01mraise\u001b[39;00m \u001b[38;5;167;01mValueError\u001b[39;00m(\u001b[38;5;124m\"\u001b[39m\u001b[38;5;132;01m{0}\u001b[39;00m\u001b[38;5;124m format is not supported\u001b[39m\u001b[38;5;124m\"\u001b[39m\u001b[38;5;241m.\u001b[39mformat(y_type))\n\u001b[1;32m     75\u001b[0m \u001b[38;5;28;01mif\u001b[39;00m y_type \u001b[38;5;241m==\u001b[39m \u001b[38;5;124m\"\u001b[39m\u001b[38;5;124mbinary\u001b[39m\u001b[38;5;124m\"\u001b[39m:\n\u001b[0;32m---> 76\u001b[0m     \u001b[38;5;28;01mreturn\u001b[39;00m \u001b[43mbinary_metric\u001b[49m\u001b[43m(\u001b[49m\u001b[43my_true\u001b[49m\u001b[43m,\u001b[49m\u001b[43m \u001b[49m\u001b[43my_score\u001b[49m\u001b[43m,\u001b[49m\u001b[43m \u001b[49m\u001b[43msample_weight\u001b[49m\u001b[38;5;241;43m=\u001b[39;49m\u001b[43msample_weight\u001b[49m\u001b[43m)\u001b[49m\n\u001b[1;32m     78\u001b[0m check_consistent_length(y_true, y_score, sample_weight)\n\u001b[1;32m     79\u001b[0m y_true \u001b[38;5;241m=\u001b[39m check_array(y_true)\n",
      "File \u001b[0;32m/p/software/jsccloud/stages/2025/software/scikit-learn/1.5.2-gcccoreflexiblas-13.3.0-3.4.4/lib/python3.12/site-packages/sklearn/metrics/_ranking.py:382\u001b[0m, in \u001b[0;36m_binary_roc_auc_score\u001b[0;34m(y_true, y_score, sample_weight, max_fpr)\u001b[0m\n\u001b[1;32m    380\u001b[0m \u001b[38;5;250m\u001b[39m\u001b[38;5;124;03m\"\"\"Binary roc auc score.\"\"\"\u001b[39;00m\n\u001b[1;32m    381\u001b[0m \u001b[38;5;28;01mif\u001b[39;00m \u001b[38;5;28mlen\u001b[39m(np\u001b[38;5;241m.\u001b[39munique(y_true)) \u001b[38;5;241m!=\u001b[39m \u001b[38;5;241m2\u001b[39m:\n\u001b[0;32m--> 382\u001b[0m     \u001b[38;5;28;01mraise\u001b[39;00m \u001b[38;5;167;01mValueError\u001b[39;00m(\n\u001b[1;32m    383\u001b[0m         \u001b[38;5;124m\"\u001b[39m\u001b[38;5;124mOnly one class present in y_true. ROC AUC score \u001b[39m\u001b[38;5;124m\"\u001b[39m\n\u001b[1;32m    384\u001b[0m         \u001b[38;5;124m\"\u001b[39m\u001b[38;5;124mis not defined in that case.\u001b[39m\u001b[38;5;124m\"\u001b[39m\n\u001b[1;32m    385\u001b[0m     )\n\u001b[1;32m    387\u001b[0m fpr, tpr, _ \u001b[38;5;241m=\u001b[39m roc_curve(y_true, y_score, sample_weight\u001b[38;5;241m=\u001b[39msample_weight)\n\u001b[1;32m    388\u001b[0m \u001b[38;5;28;01mif\u001b[39;00m max_fpr \u001b[38;5;129;01mis\u001b[39;00m \u001b[38;5;28;01mNone\u001b[39;00m \u001b[38;5;129;01mor\u001b[39;00m max_fpr \u001b[38;5;241m==\u001b[39m \u001b[38;5;241m1\u001b[39m:\n",
      "\u001b[0;31mValueError\u001b[0m: Only one class present in y_true. ROC AUC score is not defined in that case."
     ]
    }
   ],
   "source": [
    "from quantum_SVM import *\n",
    "import numpy as np\n",
    "from utils import *\n",
    "\n",
    "fold=10\n",
    "\n",
    "id_dataset = \"mnist\"\n",
    "# input calibration data\n",
    "path_data_key = 'input_datasets/train/' + id_dataset + '/'\n",
    "data_key = id_dataset + 'calibtrain'\n",
    "\n",
    "# run folder (where alphas are stored)\n",
    "path_in = 'outputs/train/mnist/runmnistcalibtrain0_0_B=2_K=2_xi=0_gamma=0.5/result_couplers=707'\n",
    "\n",
    "trainacc[j], trainauroc[j], trainauprc[j], \\\n",
    "testacc[j], testauroc[j], testauprc[j] = eval_run_rocpr_curves(\n",
    "    path_data_key,\n",
    "    path_in,\n",
    "    'saveplot'\n",
    ")"
   ]
  },
  {
   "cell_type": "markdown",
   "id": "d5167100-6d3a-48b6-9b34-bd0329f9b3b0",
   "metadata": {},
   "source": [
    "## Test"
   ]
  },
  {
   "cell_type": "code",
   "execution_count": 3,
   "id": "641d9845-0684-4fa0-9ee4-075a46ff3352",
   "metadata": {},
   "outputs": [
    {
     "ename": "NameError",
     "evalue": "name 'X_test' is not defined",
     "output_type": "error",
     "traceback": [
      "\u001b[0;31m---------------------------------------------------------------------------\u001b[0m",
      "\u001b[0;31mNameError\u001b[0m                                 Traceback (most recent call last)",
      "Cell \u001b[0;32mIn[3], line 5\u001b[0m\n\u001b[1;32m      2\u001b[0m \u001b[38;5;28;01mfrom\u001b[39;00m \u001b[38;5;21;01msklearn\u001b[39;00m \u001b[38;5;28;01mimport\u001b[39;00m preprocessing\n\u001b[1;32m      4\u001b[0m \u001b[38;5;66;03m# Pre-processing the test spectra\u001b[39;00m\n\u001b[0;32m----> 5\u001b[0m X_test \u001b[38;5;241m=\u001b[39m preprocessing\u001b[38;5;241m.\u001b[39mscale(\u001b[43mX_test\u001b[49m)\n\u001b[1;32m      7\u001b[0m path_data_key\u001b[38;5;241m=\u001b[39m\u001b[38;5;124m'\u001b[39m\u001b[38;5;124minput_datasets/train/\u001b[39m\u001b[38;5;124m'\u001b[39m\u001b[38;5;241m+\u001b[39mid_dataset\u001b[38;5;241m+\u001b[39m\u001b[38;5;124m'\u001b[39m\u001b[38;5;124m/\u001b[39m\u001b[38;5;124m'\u001b[39m\n\u001b[1;32m      8\u001b[0m data_key \u001b[38;5;241m=\u001b[39m id_dataset\u001b[38;5;241m+\u001b[39m\u001b[38;5;124m'\u001b[39m\u001b[38;5;124mcalibtrain\u001b[39m\u001b[38;5;124m'\u001b[39m\n",
      "\u001b[0;31mNameError\u001b[0m: name 'X_test' is not defined"
     ]
    }
   ],
   "source": [
    "from quantum_SVM import *\n",
    "from sklearn import preprocessing\n",
    "\n",
    "# Pre-processing the test spectra\n",
    "X_test = preprocessing.scale(X_test)\n",
    "\n",
    "path_data_key='input_datasets/train/'+id_dataset+'/'\n",
    "data_key = id_dataset+'calibtrain'\n",
    "path_train_out='outputs/train/'+id_dataset+'/'\n",
    "path_test_out='outputs/test/'+id_dataset+'/'\n",
    "\n",
    "path_files=np.load(path_train_out+'trained_SVMs.npy')\n",
    "\n",
    "experiments=1\n",
    "slices = len(path_files)\n",
    "scores=[]\n",
    "\n",
    "for j in range(0,experiments):\n",
    "    for i in range(0,slices):\n",
    "        scores.append(predict(path_data_key,path_files[i],X_test))\n",
    " \n",
    " \n",
    "avg_scores=np.zeros((scores[0].shape[0]))\n",
    "Y_predicted=np.zeros((scores[0].shape[0]),int)\n",
    "\n",
    "for i in range(0,scores[0].shape[0]):\n",
    "    tmp=0\n",
    "    for y in range(0,slices):\n",
    "        tmp=tmp+scores[y][i]\n",
    "    avg_scores[i]=tmp/slices   \n",
    " \n",
    "for i in range(0,scores[0].shape[0]):\n",
    "    if(avg_scores[i]<0):\n",
    "        Y_predicted[i]=1\n",
    "    else:\n",
    "        Y_predicted[i]=2\n",
    "        \n",
    "\n",
    "datawrite(path_test_out,'qeSVM', 'mnist', Y_predicted)"
   ]
  },
  {
   "cell_type": "code",
   "execution_count": null,
   "id": "5286d95a-f406-4503-9bc1-f87d8ca2e1fc",
   "metadata": {},
   "outputs": [],
   "source": []
  }
 ],
 "metadata": {
  "kernelspec": {
   "display_name": "PyQuantum-2025.6",
   "language": "python",
   "name": "pyquantum-2025.6"
  },
  "language_info": {
   "codemirror_mode": {
    "name": "ipython",
    "version": 3
   },
   "file_extension": ".py",
   "mimetype": "text/x-python",
   "name": "python",
   "nbconvert_exporter": "python",
   "pygments_lexer": "ipython3",
   "version": "3.12.3"
  }
 },
 "nbformat": 4,
 "nbformat_minor": 5
}
